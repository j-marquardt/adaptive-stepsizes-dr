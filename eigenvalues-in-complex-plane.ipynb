{
 "cells": [
  {
   "cell_type": "markdown",
   "id": "fa260e11",
   "metadata": {},
   "source": [
    "<h1>Eigenvalues in the complex plane</h1>\n",
    "<p>\n",
    "    This file provides code to visualise the eigenvalues of the linear Douglas-Rachford method as described in Section 4.1.<br />\n",
    "    Especially Figure 4.1 may be reproduced using the provided code below.\n",
    "</p>\n",
    "<p>\n",
    "    The preconditioned Douglas-Rachford iteration for $A,B,\\Delta\\in\\mathbb R^{n\\times n}$ is given as the fixed point iteration of\n",
    "</p>\n",
    "<p>\n",
    "    $$\n",
    "        \\begin{split}\n",
    "            H_\\Delta &= J_{\\Delta A}(\\Delta A + J_{\\Delta B} (\\mathbb I - \\Delta A))\\\\\n",
    "            &= (\\mathbb I + \\Delta A + \\Delta B + \\Delta B \\Delta A)^{-1}(\\mathbb I + \\Delta B \\Delta A),\n",
    "        \\end{split}\n",
    "    $$\n",
    "</p>\n",
    "<p>\n",
    "    where $\\mathbb I\\in\\mathbb R^{n\\times n}$ is the identity matrix. Furthermore, assume that all requirements on $A, B$ and $\\Delta$ from Lemma 4.1 are fulfilled. \n",
    "</p>\n",
    "<p>\n",
    "    In the following, code for three possible choices of $\\Delta$ may be found:\n",
    "</p>\n",
    "<ol>\n",
    "    <li> $\\Delta = t \\mathbb I$ for $t >0$.<br /></li>\n",
    "    <li> $\\Delta = \\begin{bmatrix}t \\mathbb I & 0 \\\\ 0 & s \\mathbb I\\end{bmatrix}$ with $t, s >0$.<br /></li>\n",
    "    <li> $\\Delta$ choosen randomly.</li>\n",
    "</ol>\n",
    "<p>\n",
    "    &nbsp;\n",
    "<p>\n",
    "    We start with general settings and definitions for all three choices:\n",
    "</p>"
   ]
  },
  {
   "cell_type": "code",
   "execution_count": 36,
   "id": "7e4cc7fd",
   "metadata": {},
   "outputs": [],
   "source": [
    "# import necessary libraries\n",
    "import numpy as np\n",
    "import matplotlib.pyplot as plt\n",
    "from ipywidgets import interact, SelectionSlider\n",
    "from IPython.display import display"
   ]
  },
  {
   "cell_type": "code",
   "execution_count": 89,
   "id": "57710049",
   "metadata": {},
   "outputs": [],
   "source": [
    "# dimension of the matrices A, B and Delta.\n",
    "# has to be even for 2nd choice of Delta!\n",
    "n = 50"
   ]
  },
  {
   "cell_type": "code",
   "execution_count": 4,
   "id": "2229a3c0",
   "metadata": {},
   "outputs": [],
   "source": [
    "# in order to recreate the images from Figure 4.1 set the seed to 100\n",
    "np.random.seed(100)"
   ]
  },
  {
   "cell_type": "code",
   "execution_count": 90,
   "id": "29e39a14",
   "metadata": {},
   "outputs": [],
   "source": [
    "# create random maximal monotone (i.e. positive semi-definite) matrices A and B\n",
    "\n",
    "A_build = np.random.uniform(-10.0, 10.0, (n, n))\n",
    "B_build = np.random.uniform(-10.0, 10.0, (n, n))\n",
    "\n",
    "A = A_build.T @ A_build\n",
    "B = B_build.T @ B_build\n",
    "\n",
    "I = np.identity(n)"
   ]
  },
  {
   "cell_type": "code",
   "execution_count": 91,
   "id": "735dc6bb",
   "metadata": {},
   "outputs": [],
   "source": [
    "# preparations to plot a circle in the complex plane\n",
    "# (i.e. the circle described in Lemma 4.1 in which all eigenvalues lie)\n",
    "\n",
    "theta = np.linspace(0, 2*np.pi, 100)\n",
    "\n",
    "circle_x = 0.5 * np.cos(theta) + 0.5 \n",
    "circle_y = 0.5 * np.sin(theta)"
   ]
  },
  {
   "cell_type": "markdown",
   "id": "d94e9911",
   "metadata": {},
   "source": [
    "<hr />\n",
    "<h3>\n",
    "    1. $\\Delta = t\\mathbb I$:\n",
    "</h3>\n",
    "<p>\n",
    "    We start precomputing eigenvalues for different values of $t>0$ first:\n",
    "</p>"
   ]
  },
  {
   "cell_type": "code",
   "execution_count": 119,
   "id": "b65e6037",
   "metadata": {},
   "outputs": [],
   "source": [
    "t_range = np.logspace(-4, 1, 100)\n",
    "eigenvalues_t = []\n",
    "\n",
    "for t_index, t in enumerate(t_range):\n",
    "    H_Delta = np.linalg.solve(I + t * A + t * B + t**2 * B @ A, I + t**2 * B @ A)\n",
    "    \n",
    "    eigenvalues_t.append(np.linalg.eigvals(H_Delta))"
   ]
  },
  {
   "cell_type": "markdown",
   "id": "c496226a",
   "metadata": {},
   "source": [
    "<p>\n",
    "    Now the eigenvalues can be drawn in the complex plane:\n",
    "</p>"
   ]
  },
  {
   "cell_type": "code",
   "execution_count": 120,
   "id": "d38ef5ff",
   "metadata": {},
   "outputs": [
    {
     "data": {
      "application/vnd.jupyter.widget-view+json": {
       "model_id": "893daec1eac6444bb210a0c892477079",
       "version_major": 2,
       "version_minor": 0
      },
      "text/plain": [
       "interactive(children=(SelectionSlider(description='$t$:', options=(('0.00010', 0), ('0.00011', 1), ('0.00013',…"
      ]
     },
     "metadata": {},
     "output_type": "display_data"
    }
   ],
   "source": [
    "# create a figure\n",
    "plt.rcParams['figure.dpi'] = 100\n",
    "figure, axes = plt.subplots()\n",
    "\n",
    "# styling figure\n",
    "plt.xlim([0.0, 1.2])\n",
    "plt.ylim([-0.55, 0.7])\n",
    "\n",
    "plt.xticks([1.0])\n",
    "plt.yticks([-0.5, 0.0, 0.5])\n",
    "\n",
    "axes.set_aspect(1)\n",
    "axes.set_xlabel(\"Re$(\\lambda)$\", loc='right', labelpad=-5.0)\n",
    "axes.set_ylabel(\"Im$(\\lambda)$\", loc='top', rotation=0, labelpad=-25.0)\n",
    "\n",
    "ax = plt.gca()\n",
    "ax.spines['top'].set_color('none')\n",
    "ax.spines['bottom'].set_position('zero')\n",
    "ax.spines['left'].set_position('zero')\n",
    "ax.spines['right'].set_color('none')\n",
    "\n",
    "ax.plot(1, 0, \">k\", transform=ax.get_yaxis_transform(), clip_on=False)\n",
    "ax.plot(0, 1, \"^k\", transform=ax.get_xaxis_transform(), clip_on=False)\n",
    "\n",
    "# plot from Lemma 4.1\n",
    "axes.plot(circle_x, circle_y, color=\"black\", lw=0.5)\n",
    "\n",
    "dots = plt.scatter(eigenvalues_t[0].real, eigenvalues_t[0].imag, color='red', s=8, zorder=10)\n",
    "\n",
    "plt.close()\n",
    "\n",
    "# update eigenvalues in plot depending on value for t\n",
    "def plot_eigenvalues(t_index):\n",
    "\n",
    "    dots.set_offsets([[z.real, z.imag] for z in eigenvalues_t[t_index]])\n",
    "    display(figure)\n",
    "\n",
    "slider = SelectionSlider(\n",
    "    options = [(\"{:.5f}\".format(t), t_index) for t_index, t in enumerate(t_range)],\n",
    "    description='$t$:'\n",
    ")\n",
    "\n",
    "display(interactive(plot_eigenvalues, t_index=slider))"
   ]
  },
  {
   "cell_type": "markdown",
   "id": "afdff1ce",
   "metadata": {},
   "source": [
    "<hr />\n",
    "<h3>\n",
    "    2. $\\Delta = \\begin{bmatrix}t \\mathbb I & 0 \\\\ 0 & s \\mathbb I\\end{bmatrix}$:\n",
    "</h3>\n",
    "<p>\n",
    "    We start precomputing eigenvalues for different values of $t>0$ and $s>0$ first:\n",
    "</p>"
   ]
  },
  {
   "cell_type": "code",
   "execution_count": 133,
   "id": "a3a96044",
   "metadata": {},
   "outputs": [],
   "source": [
    "s_range = np.logspace(-4, 1, 100)\n",
    "eigenvalues_ts = []\n",
    "\n",
    "for t_index, t in enumerate(t_range):\n",
    "    eigenvalues_ts.append([])\n",
    "    for s_index, s in enumerate(s_range):\n",
    "        \n",
    "        Delta = np.block([[t * np.identity(int(n/2)), np.zeros((int(n/2), int(n/2)))], [np.zeros((int(n/2), int(n/2))), s * np.identity(int(n/2))]])\n",
    "        \n",
    "        H_Delta = np.linalg.solve(I + Delta @ A + Delta @ B + Delta @ B @ Delta @ A, I + Delta @ B @ Delta @ A)\n",
    "    \n",
    "        eigenvalues_ts[t_index].append(np.linalg.eigvals(H_Delta))"
   ]
  },
  {
   "cell_type": "markdown",
   "id": "183c21c2",
   "metadata": {},
   "source": [
    "<p>\n",
    "    Now the eigenvalues can be drawn in the complex plane:\n",
    "</p>"
   ]
  },
  {
   "cell_type": "code",
   "execution_count": 134,
   "id": "021dc880",
   "metadata": {},
   "outputs": [
    {
     "data": {
      "application/vnd.jupyter.widget-view+json": {
       "model_id": "fdbd5f2d593247e2bd73088603019f58",
       "version_major": 2,
       "version_minor": 0
      },
      "text/plain": [
       "interactive(children=(SelectionSlider(description='$t$:', options=(('0.00010', 0), ('0.00011', 1), ('0.00013',…"
      ]
     },
     "metadata": {},
     "output_type": "display_data"
    }
   ],
   "source": [
    "# create a figure\n",
    "plt.rcParams['figure.dpi'] = 100\n",
    "figure, axes = plt.subplots()\n",
    "\n",
    "# styling figure\n",
    "plt.xlim([0.0, 1.2])\n",
    "plt.ylim([-0.55, 0.7])\n",
    "\n",
    "plt.xticks([1.0])\n",
    "plt.yticks([-0.5, 0.0, 0.5])\n",
    "\n",
    "axes.set_aspect(1)\n",
    "axes.set_xlabel(\"Re$(\\lambda)$\", loc='right', labelpad=-5.0)\n",
    "axes.set_ylabel(\"Im$(\\lambda)$\", loc='top', rotation=0, labelpad=-25.0)\n",
    "\n",
    "ax = plt.gca()\n",
    "ax.spines['top'].set_color('none')\n",
    "ax.spines['bottom'].set_position('zero')\n",
    "ax.spines['left'].set_position('zero')\n",
    "ax.spines['right'].set_color('none')\n",
    "\n",
    "ax.plot(1, 0, \">k\", transform=ax.get_yaxis_transform(), clip_on=False)\n",
    "ax.plot(0, 1, \"^k\", transform=ax.get_xaxis_transform(), clip_on=False)\n",
    "\n",
    "# plot from Lemma 4.1\n",
    "axes.plot(circle_x, circle_y, color=\"black\", lw=0.5)\n",
    "\n",
    "dots = plt.scatter(eigenvalues_ts[0][0].real, eigenvalues_ts[0][0].imag, color='red', s=8, zorder=10)\n",
    "\n",
    "plt.close()\n",
    "\n",
    "# update eigenvalues in plot depending on value for t\n",
    "def plot_eigenvalues(t_index, s_index):\n",
    "\n",
    "    dots.set_offsets([[z.real, z.imag] for z in eigenvalues_ts[t_index][s_index]])\n",
    "    display(figure)\n",
    "\n",
    "t_slider = SelectionSlider(\n",
    "    options = [(\"{:.5f}\".format(t), t_index) for t_index, t in enumerate(t_range)],\n",
    "    description='$t$:'\n",
    ")\n",
    "\n",
    "s_slider = SelectionSlider(\n",
    "    options = [(\"{:.5f}\".format(s), s_index) for s_index, s in enumerate(s_range)],\n",
    "    description ='$s$:'\n",
    ")\n",
    "\n",
    "display(interactive(plot_eigenvalues, t_index = t_slider, s_index = s_slider))"
   ]
  },
  {
   "cell_type": "code",
   "execution_count": null,
   "id": "6ac37c9c",
   "metadata": {},
   "outputs": [],
   "source": []
  }
 ],
 "metadata": {
  "kernelspec": {
   "display_name": "Python 3 (ipykernel)",
   "language": "python",
   "name": "python3"
  },
  "language_info": {
   "codemirror_mode": {
    "name": "ipython",
    "version": 3
   },
   "file_extension": ".py",
   "mimetype": "text/x-python",
   "name": "python",
   "nbconvert_exporter": "python",
   "pygments_lexer": "ipython3",
   "version": "3.9.12"
  }
 },
 "nbformat": 4,
 "nbformat_minor": 5
}
